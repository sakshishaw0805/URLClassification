{
 "cells": [
  {
   "cell_type": "code",
   "execution_count": null,
   "id": "95eebf48-76d5-42a6-a018-6b2749933e21",
   "metadata": {},
   "outputs": [],
   "source": [
    "import pandas as pd\n",
    "\n",
    "df=pd.read_csv('malicious_url.csv')\n",
    "df.head(10)\n"
   ]
  },
  {
   "cell_type": "code",
   "execution_count": null,
   "id": "36bcc6fa-8de7-4c24-8bdf-eead8825e469",
   "metadata": {},
   "outputs": [],
   "source": [
    "from sklearn.tree import DecisionTreeClassifier\n",
    "from sklearn.model_selection import train_test_split\n",
    "\n",
    "X=df['url']\n",
    "y=df['type']\n"
   ]
  },
  {
   "cell_type": "code",
   "execution_count": null,
   "id": "58fe1212-60b2-4189-b59b-02fadce55ece",
   "metadata": {},
   "outputs": [],
   "source": [
    "from sklearn.preprocessing import LabelEncoder\n",
    "\n",
    "label_encoder = LabelEncoder()\n",
    "y= label_encoder.fit_transform(y)"
   ]
  },
  {
   "cell_type": "code",
   "execution_count": null,
   "id": "85fd14a5-4462-41e7-8264-ab954c145020",
   "metadata": {},
   "outputs": [],
   "source": [
    "from urllib.parse import urlparse\n",
    "import re\n",
    "\n",
    "def clean_url(url):\n",
    "    parsed_url = urlparse(url)\n",
    "    domain = parsed_url.netloc.lower()\n",
    "    domain = re.sub(r\"^(www\\.)?\", \"\", domain)\n",
    "    path = parsed_url.path \n",
    "    cleaned_url = domain + path  \n",
    "    cleaned_url = re.sub(r\"\\?.*\", \"\", cleaned_url)\n",
    "    cleaned_url = re.sub(r\"#.*\", \"\", cleaned_url)\n",
    "    cleaned_url = re.sub(r\"/+\", \"/\", cleaned_url).rstrip(\"/\")\n",
    "    return cleaned_url\n",
    "\n",
    "X_cleaned = X.apply(clean_url)"
   ]
  },
  {
   "cell_type": "code",
   "execution_count": null,
   "id": "d1063ec8-1e6e-47ae-87c1-1746e64fddff",
   "metadata": {},
   "outputs": [],
   "source": [
    "from sklearn.feature_extraction.text import TfidfVectorizer\n",
    "\n",
    "cv = TfidfVectorizer()\n",
    "X = cv.fit_transform(X_cleaned)"
   ]
  },
  {
   "cell_type": "code",
   "execution_count": null,
   "id": "535ed813-fa7c-4aba-b5cd-1fd679872066",
   "metadata": {},
   "outputs": [],
   "source": [
    "X_train, X_test, y_train, y_test=train_test_split(X, y, test_size=0.2, random_state=42)"
   ]
  },
  {
   "cell_type": "code",
   "execution_count": null,
   "id": "6cf2b76a-5664-43b8-a1f0-10b893aec57d",
   "metadata": {},
   "outputs": [],
   "source": [
    "model=DecisionTreeClassifier(criterion='entropy', random_state=42)\n",
    "model.fit(X_train, y_train)"
   ]
  },
  {
   "cell_type": "code",
   "execution_count": null,
   "id": "2b422a99-7645-49fa-9b8f-c983abb7bd8c",
   "metadata": {},
   "outputs": [],
   "source": [
    "from sklearn.metrics import accuracy_score\n",
    "\n",
    "y_pred=model.predict(X_test)\n",
    "accuracy = accuracy_score(y_test, y_pred)\n",
    "print(f\"Model Accuracy: {accuracy * 100:.2f}%\")"
   ]
  },
  {
   "cell_type": "code",
   "execution_count": null,
   "id": "4e0aeaf5-8b2e-4d36-8de7-49051dd33f06",
   "metadata": {},
   "outputs": [],
   "source": [
    "from sklearn.ensemble import RandomForestClassifier, ExtraTreesClassifier\n",
    "from sklearn.svm import SVC\n",
    "from xgboost import XGBClassifier\n",
    "from lightgbm import LGBMClassifier\n",
    "from sklearn.metrics import accuracy_score\n",
    "\n",
    "models = {\n",
    "    \"Decision Tree\": DecisionTreeClassifier(),\n",
    "    \"Random Forest\": RandomForestClassifier(),\n",
    "    \"XGBoost\": XGBClassifier(use_label_encoder=False, eval_metric='mlogloss'),\n",
    "    \"SVM\": SVC(),\n",
    "    \"LightGBM\": LGBMClassifier(),\n",
    "    \"Extra Trees\": ExtraTreesClassifier()\n",
    "}\n",
    "\n",
    "for name, model in models.items():\n",
    "    model.fit(X_train, y_train)\n",
    "    y_pred = model.predict(X_test)\n",
    "    accuracy = accuracy_score(y_test, y_pred)\n",
    "    print(f\"{name} Accuracy: {accuracy * 100:.2f}%\")"
   ]
  },
  {
   "cell_type": "code",
   "execution_count": null,
   "id": "9a0a1637-332e-4b4f-8e5a-ee6b9707dce5",
   "metadata": {},
   "outputs": [],
   "source": [
    "pip install --timeout=100 --index-url=https://pypi.org/simple xgboost\n"
   ]
  },
  {
   "cell_type": "code",
   "execution_count": null,
   "id": "97a2b3f0-00b2-4578-b465-fcbd2e3c9189",
   "metadata": {},
   "outputs": [],
   "source": []
  }
 ],
 "metadata": {
  "kernelspec": {
   "display_name": "Python 3 (ipykernel)",
   "language": "python",
   "name": "python3"
  },
  "language_info": {
   "codemirror_mode": {
    "name": "ipython",
    "version": 3
   },
   "file_extension": ".py",
   "mimetype": "text/x-python",
   "name": "python",
   "nbconvert_exporter": "python",
   "pygments_lexer": "ipython3",
   "version": "3.12.7"
  }
 },
 "nbformat": 4,
 "nbformat_minor": 5
}
